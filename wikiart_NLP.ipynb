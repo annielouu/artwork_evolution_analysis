{
 "cells": [
  {
   "cell_type": "markdown",
   "metadata": {},
   "source": []
  },
  {
   "cell_type": "code",
   "execution_count": 11,
   "metadata": {},
   "outputs": [
    {
     "name": "stdout",
     "output_type": "stream",
     "text": [
      "huggingface/tokenizers: The current process just got forked, after parallelism has already been used. Disabling parallelism to avoid deadlocks...\n",
      "To disable this warning, you can either:\n",
      "\t- Avoid using `tokenizers` before the fork if possible\n",
      "\t- Explicitly set the environment variable TOKENIZERS_PARALLELISM=(true | false)\n",
      "Collecting dask\n",
      "  Obtaining dependency information for dask from https://files.pythonhosted.org/packages/f4/b9/ea749b059b5e5eab6231fcd65b3680551a65392c9a37352ddffc17ce8616/dask-2023.8.1-py3-none-any.whl.metadata\n",
      "  Downloading dask-2023.8.1-py3-none-any.whl.metadata (3.6 kB)\n",
      "Requirement already satisfied: click>=8.0 in /home/marco/anaconda3/lib/python3.9/site-packages (from dask) (8.1.3)\n",
      "Collecting cloudpickle>=1.5.0 (from dask)\n",
      "  Downloading cloudpickle-2.2.1-py3-none-any.whl (25 kB)\n",
      "Requirement already satisfied: fsspec>=2021.09.0 in /home/marco/anaconda3/lib/python3.9/site-packages (from dask) (2023.6.0)\n",
      "Requirement already satisfied: packaging>=20.0 in /home/marco/anaconda3/lib/python3.9/site-packages (from dask) (21.3)\n",
      "Collecting partd>=1.2.0 (from dask)\n",
      "  Downloading partd-1.4.0-py3-none-any.whl (18 kB)\n",
      "Requirement already satisfied: pyyaml>=5.3.1 in /home/marco/anaconda3/lib/python3.9/site-packages (from dask) (6.0)\n",
      "Requirement already satisfied: toolz>=0.10.0 in /home/marco/anaconda3/lib/python3.9/site-packages (from dask) (0.12.0)\n",
      "Requirement already satisfied: importlib-metadata>=4.13.0 in /home/marco/anaconda3/lib/python3.9/site-packages (from dask) (6.7.0)\n",
      "Requirement already satisfied: zipp>=0.5 in /home/marco/anaconda3/lib/python3.9/site-packages (from importlib-metadata>=4.13.0->dask) (3.15.0)\n",
      "Requirement already satisfied: pyparsing!=3.0.5,>=2.0.2 in /home/marco/anaconda3/lib/python3.9/site-packages (from packaging>=20.0->dask) (3.0.4)\n",
      "Collecting locket (from partd>=1.2.0->dask)\n",
      "  Using cached locket-1.0.0-py2.py3-none-any.whl (4.4 kB)\n",
      "Downloading dask-2023.8.1-py3-none-any.whl (1.2 MB)\n",
      "\u001b[2K   \u001b[38;2;114;156;31m━━━━━━━━━━━━━━━━━━━━━━━━━━━━━━━━━━━━━━━━\u001b[0m \u001b[32m1.2/1.2 MB\u001b[0m \u001b[31m12.8 MB/s\u001b[0m eta \u001b[36m0:00:00\u001b[0m MB/s\u001b[0m eta \u001b[36m0:00:01\u001b[0m01\u001b[0m\n",
      "\u001b[?25h\u001b[33mWARNING: Error parsing requirements for platformdirs: [Errno 2] No such file or directory: '/home/marco/anaconda3/lib/python3.9/site-packages/platformdirs-2.5.2.dist-info/METADATA'\u001b[0m\u001b[33m\n",
      "\u001b[0mInstalling collected packages: locket, cloudpickle, partd, dask\n",
      "Successfully installed cloudpickle-2.2.1 dask-2023.8.1 locket-1.0.0 partd-1.4.0\n"
     ]
    }
   ],
   "source": [
    "# pip install -U sentence_transformers seaborn plotly numpy pandas\n",
    "# !pip install -U dask"
   ]
  },
  {
   "cell_type": "code",
   "execution_count": 3,
   "metadata": {},
   "outputs": [
    {
     "name": "stdout",
     "output_type": "stream",
     "text": [
      "/home/marco/Documents/Reference/Course-Materials/annie\n",
      "2019.csv  all-data.csv\t   D4-download.xlsx  ga-project\n",
      "2020.csv  analysis.ipynb   dataprofile.html  stor-lab2\n",
      "2021.csv  Archive.zip\t   dtale-eda.ipynb   sweetviz-eda.ipynb\n",
      "2022.csv  D4-download.csv  final-project     SWEETVIZ_REPORT.html\n",
      "wikiart_cleaned.csv  wikiart_scraped.csv\n"
     ]
    }
   ],
   "source": [
    "DATA_DIR = 'ga-project/data/'\n",
    "# DATA_DIR = '/Users/annie/blah/blah/my-project/data/'\n",
    "# WRONG:  DATA_DIR = '/Users/annie/blah/blah/my-project/data'  # no trailing slash\n",
    "!pwd\n",
    "!ls\n",
    "!ls ga-project/data"
   ]
  },
  {
   "cell_type": "code",
   "execution_count": 9,
   "metadata": {},
   "outputs": [
    {
     "name": "stdout",
     "output_type": "stream",
     "text": [
      "Defaulting to user installation because normal site-packages is not writeable\n",
      "Collecting matplotlib\n",
      "  Using cached matplotlib-3.7.2-cp310-cp310-manylinux_2_17_x86_64.manylinux2014_x86_64.whl (11.6 MB)\n",
      "Collecting contourpy>=1.0.1 (from matplotlib)\n",
      "  Using cached contourpy-1.1.0-cp310-cp310-manylinux_2_17_x86_64.manylinux2014_x86_64.whl (300 kB)\n",
      "Requirement already satisfied: cycler>=0.10 in /home/marco/.local/lib/python3.10/site-packages (from matplotlib) (0.11.0)\n",
      "Requirement already satisfied: fonttools>=4.22.0 in /home/marco/.local/lib/python3.10/site-packages (from matplotlib) (4.33.3)\n",
      "Requirement already satisfied: kiwisolver>=1.0.1 in /home/marco/.local/lib/python3.10/site-packages (from matplotlib) (1.4.2)\n",
      "Requirement already satisfied: numpy>=1.20 in /home/marco/.local/lib/python3.10/site-packages (from matplotlib) (1.22.4)\n",
      "Requirement already satisfied: packaging>=20.0 in /home/marco/.local/lib/python3.10/site-packages (from matplotlib) (21.3)\n",
      "Requirement already satisfied: pillow>=6.2.0 in /home/marco/.local/lib/python3.10/site-packages (from matplotlib) (9.1.1)\n",
      "Requirement already satisfied: pyparsing<3.1,>=2.3.1 in /usr/lib/python3/dist-packages (from matplotlib) (2.4.7)\n",
      "Requirement already satisfied: python-dateutil>=2.7 in /home/marco/.local/lib/python3.10/site-packages (from matplotlib) (2.8.2)\n",
      "Requirement already satisfied: six>=1.5 in /usr/lib/python3/dist-packages (from python-dateutil>=2.7->matplotlib) (1.16.0)\n",
      "Installing collected packages: contourpy, matplotlib\n",
      "\u001b[31mERROR: pip's dependency resolver does not currently take into account all the packages that are installed. This behaviour is the source of the following dependency conflicts.\n",
      "quantstats 0.0.47 requires pandas>=0.24.0, which is not installed.\n",
      "quantstats 0.0.47 requires scipy>=1.2.0, which is not installed.\n",
      "riskfolio-lib 3.3.0 requires pandas>=1.0.0, which is not installed.\n",
      "riskfolio-lib 3.3.0 requires scipy>=1.0.1, which is not installed.\n",
      "mplfinance 0.12.8b6 requires pandas, which is not installed.\n",
      "seaborn 0.11.2 requires pandas>=0.23, which is not installed.\n",
      "seaborn 0.11.2 requires scipy>=1.0, which is not installed.\n",
      "vectorbt 0.24.1 requires pandas, which is not installed.\n",
      "vectorbt 0.24.1 requires scipy, which is not installed.\n",
      "vectorbt 0.24.1 requires tqdm, which is not installed.\u001b[0m\u001b[31m\n",
      "\u001b[0mSuccessfully installed contourpy-1.1.0 matplotlib-3.7.2\n",
      "\n",
      "\u001b[1m[\u001b[0m\u001b[34;49mnotice\u001b[0m\u001b[1;39;49m]\u001b[0m\u001b[39;49m A new release of pip is available: \u001b[0m\u001b[31;49m23.1.2\u001b[0m\u001b[39;49m -> \u001b[0m\u001b[32;49m23.2.1\u001b[0m\n",
      "\u001b[1m[\u001b[0m\u001b[34;49mnotice\u001b[0m\u001b[1;39;49m]\u001b[0m\u001b[39;49m To update, run: \u001b[0m\u001b[32;49mpip3.10 install --upgrade pip\u001b[0m\n",
      "Note: you may need to restart the kernel to use updated packages.\n"
     ]
    }
   ],
   "source": [
    "pip install matplotlib"
   ]
  },
  {
   "cell_type": "code",
   "execution_count": 8,
   "metadata": {},
   "outputs": [
    {
     "ename": "ModuleNotFoundError",
     "evalue": "No module named 'matplotlib'",
     "output_type": "error",
     "traceback": [
      "\u001b[0;31m---------------------------------------------------------------------------\u001b[0m",
      "\u001b[0;31mModuleNotFoundError\u001b[0m                       Traceback (most recent call last)",
      "Cell \u001b[0;32mIn[8], line 5\u001b[0m\n\u001b[1;32m      3\u001b[0m \u001b[39mimport\u001b[39;00m \u001b[39mpandas\u001b[39;00m \u001b[39mas\u001b[39;00m \u001b[39mpd\u001b[39;00m\n\u001b[1;32m      4\u001b[0m \u001b[39mimport\u001b[39;00m \u001b[39mnumpy\u001b[39;00m \u001b[39mas\u001b[39;00m \u001b[39mnp\u001b[39;00m\n\u001b[0;32m----> 5\u001b[0m \u001b[39mimport\u001b[39;00m \u001b[39mseaborn\u001b[39;00m \u001b[39mas\u001b[39;00m \u001b[39msns\u001b[39;00m\n\u001b[1;32m      6\u001b[0m \u001b[39mfrom\u001b[39;00m \u001b[39msentence_transformers\u001b[39;00m \u001b[39mimport\u001b[39;00m SentenceTransformer\n",
      "File \u001b[0;32m~/.local/lib/python3.10/site-packages/seaborn/__init__.py:2\u001b[0m\n\u001b[1;32m      1\u001b[0m \u001b[39m# Import seaborn objects\u001b[39;00m\n\u001b[0;32m----> 2\u001b[0m \u001b[39mfrom\u001b[39;00m \u001b[39m.\u001b[39;00m\u001b[39mrcmod\u001b[39;00m \u001b[39mimport\u001b[39;00m \u001b[39m*\u001b[39m  \u001b[39m# noqa: F401,F403\u001b[39;00m\n\u001b[1;32m      3\u001b[0m \u001b[39mfrom\u001b[39;00m \u001b[39m.\u001b[39;00m\u001b[39mutils\u001b[39;00m \u001b[39mimport\u001b[39;00m \u001b[39m*\u001b[39m  \u001b[39m# noqa: F401,F403\u001b[39;00m\n\u001b[1;32m      4\u001b[0m \u001b[39mfrom\u001b[39;00m \u001b[39m.\u001b[39;00m\u001b[39mpalettes\u001b[39;00m \u001b[39mimport\u001b[39;00m \u001b[39m*\u001b[39m  \u001b[39m# noqa: F401,F403\u001b[39;00m\n",
      "File \u001b[0;32m~/.local/lib/python3.10/site-packages/seaborn/rcmod.py:5\u001b[0m\n\u001b[1;32m      3\u001b[0m \u001b[39mimport\u001b[39;00m \u001b[39mfunctools\u001b[39;00m\n\u001b[1;32m      4\u001b[0m \u001b[39mfrom\u001b[39;00m \u001b[39mdistutils\u001b[39;00m\u001b[39m.\u001b[39;00m\u001b[39mversion\u001b[39;00m \u001b[39mimport\u001b[39;00m LooseVersion\n\u001b[0;32m----> 5\u001b[0m \u001b[39mimport\u001b[39;00m \u001b[39mmatplotlib\u001b[39;00m \u001b[39mas\u001b[39;00m \u001b[39mmpl\u001b[39;00m\n\u001b[1;32m      6\u001b[0m \u001b[39mfrom\u001b[39;00m \u001b[39mcycler\u001b[39;00m \u001b[39mimport\u001b[39;00m cycler\n\u001b[1;32m      7\u001b[0m \u001b[39mfrom\u001b[39;00m \u001b[39m.\u001b[39;00m \u001b[39mimport\u001b[39;00m palettes\n",
      "\u001b[0;31mModuleNotFoundError\u001b[0m: No module named 'matplotlib'"
     ]
    }
   ],
   "source": [
    "# import dask.dataframe as dd\n",
    "# import dask.array as da\n",
    "import pandas as pd\n",
    "import numpy as np\n",
    "import seaborn as sns\n",
    "from sentence_transformers import SentenceTransformer"
   ]
  },
  {
   "cell_type": "code",
   "execution_count": 68,
   "metadata": {},
   "outputs": [
    {
     "data": {
      "text/plain": [
       "(124170, 5)"
      ]
     },
     "execution_count": 68,
     "metadata": {},
     "output_type": "execute_result"
    }
   ],
   "source": [
    "# wikiart = dd.read_csv(\n",
    "#     DATA_DIR+'wikiart_cleaned.csv').set_index('Unnamed: 0')\n",
    "# # Reset the index and set a new index with the desired name\n",
    "# wikiart = wikiart.reset_index(drop=True)\n",
    "# wikiart['index'] = wikiart.index\n",
    "# wikiart = wikiart.set_index('index')\n",
    "\n",
    "wikiart = pd.read_csv(\n",
    "    DATA_DIR+'wikiart_cleaned.csv', index_col=0)\n",
    "\n",
    "wikiart.shape"
   ]
  },
  {
   "cell_type": "code",
   "execution_count": 69,
   "metadata": {},
   "outputs": [
    {
     "data": {
      "text/html": [
       "<div>\n",
       "<style scoped>\n",
       "    .dataframe tbody tr th:only-of-type {\n",
       "        vertical-align: middle;\n",
       "    }\n",
       "\n",
       "    .dataframe tbody tr th {\n",
       "        vertical-align: top;\n",
       "    }\n",
       "\n",
       "    .dataframe thead th {\n",
       "        text-align: right;\n",
       "    }\n",
       "</style>\n",
       "<table border=\"1\" class=\"dataframe\">\n",
       "  <thead>\n",
       "    <tr style=\"text-align: right;\">\n",
       "      <th></th>\n",
       "      <th>Style</th>\n",
       "      <th>Artwork</th>\n",
       "      <th>Artist</th>\n",
       "      <th>Date</th>\n",
       "      <th>Link</th>\n",
       "    </tr>\n",
       "  </thead>\n",
       "  <tbody>\n",
       "    <tr>\n",
       "      <th>0</th>\n",
       "      <td>Early-Dynastic</td>\n",
       "      <td>Narmer Palette</td>\n",
       "      <td>Ancient Egypt</td>\n",
       "      <td>-3050</td>\n",
       "      <td>https://uploads3.wikiart.org/00265/images/anci...</td>\n",
       "    </tr>\n",
       "    <tr>\n",
       "      <th>1</th>\n",
       "      <td>Early-Dynastic</td>\n",
       "      <td>Box Inlay with a Geometric Pattern</td>\n",
       "      <td>Ancient Egypt</td>\n",
       "      <td>-3000</td>\n",
       "      <td>https://uploads2.wikiart.org/00244/images/anci...</td>\n",
       "    </tr>\n",
       "    <tr>\n",
       "      <th>2</th>\n",
       "      <td>Old-Kingdom</td>\n",
       "      <td>Khafre Enthroned</td>\n",
       "      <td>Ancient Egypt</td>\n",
       "      <td>-2570</td>\n",
       "      <td>https://uploads2.wikiart.org/00305/images/anci...</td>\n",
       "    </tr>\n",
       "    <tr>\n",
       "      <th>3</th>\n",
       "      <td>Middle-Kingdom</td>\n",
       "      <td>Stele of the Serpent King (Stela of Djet)</td>\n",
       "      <td>Ancient Egypt</td>\n",
       "      <td>-3000</td>\n",
       "      <td>https://uploads7.wikiart.org/00305/images/anci...</td>\n",
       "    </tr>\n",
       "    <tr>\n",
       "      <th>4</th>\n",
       "      <td>Middle-Kingdom</td>\n",
       "      <td>Laden Donkeys and Ploughing, Tomb of Djar</td>\n",
       "      <td>Ancient Egypt</td>\n",
       "      <td>-2035</td>\n",
       "      <td>https://uploads8.wikiart.org/00244/images/anci...</td>\n",
       "    </tr>\n",
       "  </tbody>\n",
       "</table>\n",
       "</div>"
      ],
      "text/plain": [
       "            Style                                    Artwork         Artist  \\\n",
       "0  Early-Dynastic                             Narmer Palette  Ancient Egypt   \n",
       "1  Early-Dynastic         Box Inlay with a Geometric Pattern  Ancient Egypt   \n",
       "2     Old-Kingdom                           Khafre Enthroned  Ancient Egypt   \n",
       "3  Middle-Kingdom  Stele of the Serpent King (Stela of Djet)  Ancient Egypt   \n",
       "4  Middle-Kingdom  Laden Donkeys and Ploughing, Tomb of Djar  Ancient Egypt   \n",
       "\n",
       "   Date                                               Link  \n",
       "0 -3050  https://uploads3.wikiart.org/00265/images/anci...  \n",
       "1 -3000  https://uploads2.wikiart.org/00244/images/anci...  \n",
       "2 -2570  https://uploads2.wikiart.org/00305/images/anci...  \n",
       "3 -3000  https://uploads7.wikiart.org/00305/images/anci...  \n",
       "4 -2035  https://uploads8.wikiart.org/00244/images/anci...  "
      ]
     },
     "execution_count": 69,
     "metadata": {},
     "output_type": "execute_result"
    }
   ],
   "source": [
    "wikiart.head()"
   ]
  },
  {
   "cell_type": "code",
   "execution_count": null,
   "metadata": {},
   "outputs": [],
   "source": [
    "model = SentenceTransformer('all-MiniLM-L6-v2')"
   ]
  },
  {
   "cell_type": "code",
   "execution_count": null,
   "metadata": {},
   "outputs": [],
   "source": [
    "corpus = wikiart['Artwork']\n",
    "embeddings = model.encode(corpus)\n",
    "embeddings.shape"
   ]
  },
  {
   "cell_type": "code",
   "execution_count": 70,
   "metadata": {},
   "outputs": [
    {
     "data": {
      "text/plain": [
       "(124170, 384)"
      ]
     },
     "execution_count": 70,
     "metadata": {},
     "output_type": "execute_result"
    }
   ],
   "source": [
    "# Truncate artwork names to create labels\n",
    "corpuslabels = [elem.split()[0] for elem in corpus]\n",
    "len(corpuslabels)"
   ]
  },
  {
   "cell_type": "code",
   "execution_count": 71,
   "metadata": {},
   "outputs": [],
   "source": [
    "# Let's visualize the similarities in a heatmap to test whether we can discover topics\n",
    "# Define a function that creates a heatmap for sentence similarity\n",
    "def plot_similarity(labels, sim_, rotation=90):\n",
    "    sns.set(rc={'figure.figsize': (10, 8)}, font_scale=1.5)\n",
    "    g = sns.heatmap(sim_,\n",
    "                    xticklabels=labels, yticklabels=labels,\n",
    "                    vmin=0, vmax=1, cmap=\"YlOrRd\")\n",
    "    g.set_xticklabels(labels, rotation=rotation)\n",
    "    g.set_title(\"Semantic Textual Similarity\")"
   ]
  },
  {
   "cell_type": "code",
   "execution_count": 72,
   "metadata": {},
   "outputs": [
    {
     "name": "stderr",
     "output_type": "stream",
     "text": [
      "/home/marco/anaconda3/lib/python3.9/site-packages/dask/array/core.py:1711: FutureWarning:\n",
      "\n",
      "The `numpy.inner` function is not implemented by Dask array. You may want to use the da.map_blocks function or something similar to silence this warning. Your code may stop working in a future release.\n",
      "\n"
     ]
    },
    {
     "ename": "",
     "evalue": "",
     "output_type": "error",
     "traceback": [
      "\u001b[1;31mThe Kernel crashed while executing code in the the current cell or a previous cell. Please review the code in the cell(s) to identify a possible cause of the failure. Click <a href='https://aka.ms/vscodeJupyterKernelCrash'>here</a> for more info. View Jupyter <a href='command:jupyter.viewOutput'>log</a> for further details."
     ]
    },
    {
     "ename": "",
     "evalue": "",
     "output_type": "error",
     "traceback": [
      "\u001b[1;31mThe Kernel crashed while executing code in the the current cell or a previous cell. Please review the code in the cell(s) to identify a possible cause of the failure. Click <a href='https://aka.ms/vscodeJupyterKernelCrash'>here</a> for more info. View Jupyter <a href='command:jupyter.viewOutput'>log</a> for further details."
     ]
    },
    {
     "ename": "",
     "evalue": "",
     "output_type": "error",
     "traceback": [
      "\u001b[1;31mCanceled future for execute_request message before replies were done"
     ]
    }
   ],
   "source": [
    "sim_matrix = np.inner(embeddings, embeddings)\n",
    "# plot_similarity(corpuslabels, sim_matrix, 90)\n",
    "# sim_matrix.shape"
   ]
  },
  {
   "cell_type": "code",
   "execution_count": 9,
   "metadata": {},
   "outputs": [
    {
     "data": {
      "text/plain": [
       "1.0000006"
      ]
     },
     "execution_count": 9,
     "metadata": {},
     "output_type": "execute_result"
    }
   ],
   "source": []
  }
 ],
 "metadata": {
  "kernelspec": {
   "display_name": "Python 3 (ipykernel)",
   "language": "python",
   "name": "python3"
  },
  "language_info": {
   "codemirror_mode": {
    "name": "ipython",
    "version": 3
   },
   "file_extension": ".py",
   "mimetype": "text/x-python",
   "name": "python",
   "nbconvert_exporter": "python",
   "pygments_lexer": "ipython3",
   "version": "3.10.12"
  },
  "orig_nbformat": 4
 },
 "nbformat": 4,
 "nbformat_minor": 2
}
